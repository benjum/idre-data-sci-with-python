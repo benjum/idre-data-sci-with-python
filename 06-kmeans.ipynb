{
 "cells": [
  {
   "cell_type": "markdown",
   "metadata": {},
   "source": [
    "# KMeans Clustering\n",
    "\n",
    "This is for unsupervised machine learning.  Let's assume the Iris data is not categorized by species, and we are left to simply identify clusters without any guidance from labels."
   ]
  },
  {
   "cell_type": "code",
   "execution_count": null,
   "metadata": {},
   "outputs": [],
   "source": [
    "import numpy as np\n",
    "import matplotlib.pyplot as plt\n",
    "import seaborn as sns\n",
    "from sklearn.cluster import KMeans\n",
    "from sklearn import datasets\n",
    "import ipywidgets\n",
    "import plotly.express as px\n",
    "import pandas as pd"
   ]
  },
  {
   "cell_type": "code",
   "execution_count": null,
   "metadata": {},
   "outputs": [],
   "source": [
    "iris = datasets.load_iris()\n",
    "X = iris.data[:,2:]\n",
    "y = iris.target"
   ]
  },
  {
   "cell_type": "code",
   "execution_count": null,
   "metadata": {},
   "outputs": [],
   "source": [
    "sns.scatterplot(x=X[:,0],y=X[:,1],hue=y,palette='rainbow');"
   ]
  },
  {
   "cell_type": "markdown",
   "metadata": {},
   "source": [
    "We create an object for our model by calling \"KMeans\" with the number of clusters we want to look for"
   ]
  },
  {
   "cell_type": "code",
   "execution_count": null,
   "metadata": {},
   "outputs": [],
   "source": [
    "kmeans = KMeans(n_clusters=3)"
   ]
  },
  {
   "cell_type": "markdown",
   "metadata": {},
   "source": [
    "We then call the fit method, and pass in the data in which we want to search for clusters"
   ]
  },
  {
   "cell_type": "code",
   "execution_count": null,
   "metadata": {},
   "outputs": [],
   "source": [
    "kmeans.fit(X)"
   ]
  },
  {
   "cell_type": "code",
   "execution_count": null,
   "metadata": {},
   "outputs": [],
   "source": [
    "kmeans.labels_"
   ]
  },
  {
   "cell_type": "code",
   "execution_count": null,
   "metadata": {},
   "outputs": [],
   "source": [
    "sns.scatterplot(x=X[:,0],\n",
    "                y=X[:,1],\n",
    "                hue=kmeans.labels_,\n",
    "                palette='rainbow');"
   ]
  },
  {
   "cell_type": "markdown",
   "metadata": {},
   "source": [
    "It gets a little tedious to repeat the process multiple times for different numbers of clusters.  We can make the process more interactive with the ipywidgets library."
   ]
  },
  {
   "cell_type": "code",
   "execution_count": null,
   "metadata": {},
   "outputs": [],
   "source": [
    "def kmeans_iris(n_clusters=3):\n",
    "    kmeans = KMeans(n_clusters)\n",
    "    kmeans.fit(X)\n",
    "    sns.scatterplot(x=X[:,0],\n",
    "                    y=X[:,1],\n",
    "                    hue=kmeans.labels_,\n",
    "                    palette='rainbow')\n",
    "ipywidgets.interact(kmeans_iris,n_clusters=(1,20));"
   ]
  },
  {
   "cell_type": "markdown",
   "metadata": {},
   "source": [
    "There are four different measured parameters too.  Let's go up to 3D."
   ]
  },
  {
   "cell_type": "code",
   "execution_count": null,
   "metadata": {},
   "outputs": [],
   "source": [
    "X = iris.data[:,1:]\n",
    "def kmeans_iris(n_clusters=3):\n",
    "    kmeans = KMeans(n_clusters)\n",
    "    kmeans.fit(X)\n",
    "    fig = px.scatter_3d(x=X[:,0],\n",
    "          y=X[:,1],\n",
    "          z=X[:,2],\n",
    "          color=kmeans.labels_)\n",
    "    fig.show()\n",
    "\n",
    "ipywidgets.interact(kmeans_iris,n_clusters=(1,20));"
   ]
  },
  {
   "cell_type": "markdown",
   "metadata": {},
   "source": [
    "It would actually be a little more convenient to see the axis labels, and more convenient to work with this by passing in a pandas dataframe."
   ]
  },
  {
   "cell_type": "code",
   "execution_count": null,
   "metadata": {},
   "outputs": [],
   "source": [
    "iris.feature_names"
   ]
  },
  {
   "cell_type": "code",
   "execution_count": null,
   "metadata": {},
   "outputs": [],
   "source": [
    "irisdf = pd.DataFrame(X[1:],columns=iris.feature_names[1:])"
   ]
  },
  {
   "cell_type": "code",
   "execution_count": null,
   "metadata": {},
   "outputs": [],
   "source": [
    "def kmeans_iris(n_clusters=3):\n",
    "    kmeans = KMeans(n_clusters)\n",
    "    kmeans.fit(irisdf)\n",
    "    fig = px.scatter_3d(irisdf,x='sepal width (cm)',\n",
    "          y='petal length (cm)',\n",
    "          z='petal width (cm)',\n",
    "          color=kmeans.labels_)\n",
    "    fig.show()\n",
    "\n",
    "ipywidgets.interact(kmeans_iris,n_clusters=(1,20));"
   ]
  },
  {
   "cell_type": "markdown",
   "metadata": {},
   "source": [
    "The kmeans object has various parameters available for us to inspect, including the location of the cluster centers in this parameter space."
   ]
  },
  {
   "cell_type": "code",
   "execution_count": null,
   "metadata": {},
   "outputs": [],
   "source": [
    "kmeans.cluster_centers_"
   ]
  },
  {
   "cell_type": "code",
   "execution_count": null,
   "metadata": {},
   "outputs": [],
   "source": [
    "kmeans.cluster_centers_[:,0]"
   ]
  },
  {
   "cell_type": "markdown",
   "metadata": {},
   "source": [
    "We can append these to the dataframe and include them in our plot."
   ]
  },
  {
   "cell_type": "code",
   "execution_count": null,
   "metadata": {},
   "outputs": [],
   "source": [
    "irisdf"
   ]
  },
  {
   "cell_type": "code",
   "execution_count": null,
   "metadata": {},
   "outputs": [],
   "source": [
    "irisdf.append(pd.DataFrame(kmeans.cluster_centers_,columns=irisdf.columns),ignore_index=True)"
   ]
  },
  {
   "cell_type": "code",
   "execution_count": null,
   "metadata": {},
   "outputs": [],
   "source": [
    "def kmeans_iris(n_clusters=3):\n",
    "    kmeans = KMeans(n_clusters, n_init=50)\n",
    "    kmeans.fit(irisdf)\n",
    "    fig = px.scatter_3d(irisdf.append(pd.DataFrame(kmeans.cluster_centers_,columns=irisdf.columns),ignore_index=True),\n",
    "                        x='sepal width (cm)',\n",
    "                        y='petal length (cm)',\n",
    "                        z='petal width (cm)',\n",
    "                        color=list(kmeans.labels_)+[max(kmeans.labels_)+1]*n_clusters,\n",
    "                        size=list(kmeans.labels_+10)+[max(kmeans.labels_+10)*3]*n_clusters,\n",
    "                       color_continuous_scale='jet')\n",
    "    fig.show()\n",
    "\n",
    "ipywidgets.interact(kmeans_iris,n_clusters=(1,10));"
   ]
  },
  {
   "cell_type": "code",
   "execution_count": null,
   "metadata": {},
   "outputs": [],
   "source": []
  }
 ],
 "metadata": {
  "kernelspec": {
   "display_name": "Python 3",
   "language": "python",
   "name": "python3"
  },
  "language_info": {
   "codemirror_mode": {
    "name": "ipython",
    "version": 3
   },
   "file_extension": ".py",
   "mimetype": "text/x-python",
   "name": "python",
   "nbconvert_exporter": "python",
   "pygments_lexer": "ipython3",
   "version": "3.8.4"
  }
 },
 "nbformat": 4,
 "nbformat_minor": 2
}
